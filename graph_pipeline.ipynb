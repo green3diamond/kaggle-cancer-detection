{
 "cells": [
  {
   "cell_type": "markdown",
   "id": "7f386e34",
   "metadata": {},
   "source": [
    "# Exploring data"
   ]
  },
  {
   "cell_type": "code",
   "execution_count": null,
   "id": "65ced22f",
   "metadata": {},
   "outputs": [],
   "source": [
    "import pandas as pd\n",
    "import os\n",
    "import numpy as np\n",
    "from matplotlib import pyplot as plt\n",
    "\n",
    "from util.DicomReader import DicomReader\n",
    "from util.segmentation import *\n"
   ]
  },
  {
   "cell_type": "code",
   "execution_count": null,
   "id": "47f8cef6",
   "metadata": {},
   "outputs": [],
   "source": [
    "data_dir = 'toy_data'\n",
    "train_img_dir = f\"{data_dir}/train_images\"\n",
    "test_img_dir = f\"{data_dir}/test_images\"\n",
    "\n",
    "train_csv = f\"{data_dir}/train.csv\"\n",
    "test_csv = f\"{data_dir}/test.csv\""
   ]
  },
  {
   "cell_type": "code",
   "execution_count": null,
   "id": "7646cfd4",
   "metadata": {},
   "outputs": [],
   "source": [
    "train_df = pd.read_csv(train_csv)"
   ]
  },
  {
   "cell_type": "markdown",
   "id": "5463707e",
   "metadata": {},
   "source": [
    "# Superpixel segmentation"
   ]
  },
  {
   "cell_type": "code",
   "execution_count": null,
   "id": "82183584",
   "metadata": {},
   "outputs": [],
   "source": [
    "from matplotlib.lines import Line2D\n",
    "import cv2\n",
    "SCALE_RATIO = .25\n",
    "GRAPH_DATA_DIRNAME = 'graphs'\n",
    "\n",
    "    # create the directory to hold graph data\n",
    "if not os.path.isdir(GRAPH_DATA_DIRNAME):\n",
    "    os.mkdir(GRAPH_DATA_DIRNAME)\n",
    "\n",
    "image_reader = DicomReader(\"toy_data/train.csv\")\n",
    "patient_id, image_id, img, cancer = image_reader.extract_img_and_meta(\"toy_data/train_images/24947/1231101161.dcm\", plot_img=False)\n",
    "\n",
    "width = int(img.shape[1] * SCALE_RATIO)\n",
    "height = int(img.shape[0] * SCALE_RATIO)\n",
    "dim = (width, height)\n",
    "print(f\"resizing image from: ({img.shape[1]}, {img.shape[0]}) to ({width},{height})\")\n",
    "img = cv2.resize(img, dim, interpolation = cv2.INTER_AREA)\n",
    "segments = segment_img(img)\n",
    "\n",
    "visualize_segments(img, segments)\n",
    "\n",
    "#segments_ids = np.unique(segments)\n",
    "\n",
    "# centers = np.array([np.mean(np.nonzero(segments==i),axis=1) for i in segments_ids])\n",
    "\n",
    "# vs_right = np.vstack([segments[:,:-1].ravel(), segments[:,1:].ravel()])\n",
    "# vs_below = np.vstack([segments[:-1,:].ravel(), segments[1:,:].ravel()])\n",
    "# bneighbors = np.unique(np.hstack([vs_right, vs_below]), axis=1)\n",
    "\n",
    "# fig = plt.figure(figsize=(10,10))\n",
    "# ax = fig.add_subplot(111)\n",
    "# # plt.imshow(img, cmap=plt.cm.gray)\n",
    "# plt.imshow(mark_boundaries(img, segments)) \n",
    "# plt.scatter(centers[:,1],centers[:,0], c='m')\n",
    "\n",
    "# for i in range(bneighbors.shape[1]):\n",
    "#     y0,x0 = centers[bneighbors[0,i]]\n",
    "#     y1,x1 = centers[bneighbors[1,i]]\n",
    "\n",
    "#     l = Line2D([x0,x1],[y0,y1], alpha=0.3, c='m')\n",
    "#     ax.add_line(l)\n",
    "\n",
    "# # plt.imshow(mark_boundaries(np.array(img), segments))"
   ]
  },
  {
   "cell_type": "markdown",
   "id": "3d4a04e8",
   "metadata": {},
   "source": [
    "# Featurizing superpixels"
   ]
  },
  {
   "cell_type": "code",
   "execution_count": null,
   "id": "51988436",
   "metadata": {},
   "outputs": [],
   "source": [
    "from util.featurize import extract_features\n",
    "import scipy.stats\n",
    "from matplotlib import pyplot as plt\n",
    "\n",
    "def get_segment(segments, i):\n",
    "    # return the values from the superpixel, fill rest with 0\n",
    "    return np.where((segments==i), img, 0)\n",
    "\n",
    "def get_segment_values(segments, i):\n",
    "    # get the segmented superpixel\n",
    "    segment = get_segment(segments, i)\n",
    "    # get non-zero pixels\n",
    "    values = segment.ravel()[segment.ravel() > 0]\n",
    "    \n",
    "    return values\n",
    "    \n",
    "def featurize_segment(segments, i):\n",
    "    \n",
    "    vals = get_segment_values(segments, i)\n",
    "    \n",
    "    features = {'segment_id': i,\n",
    "                'std': np.std(vals), \n",
    "                'mean': np.mean(vals),\n",
    "                'entropy': scipy.stats.entropy(vals)}\n",
    "    return features\n",
    "\n",
    "    \n",
    "fig = plt.figure(figsize=(10,10))\n",
    "\n",
    "segment_i = np.size(segments)\n",
    "plt.imshow(get_segment(segments, segment_i), cmap=plt.cm.gray)\n",
    "visualize_segments(img, segments)\n"
   ]
  },
  {
   "cell_type": "code",
   "execution_count": null,
   "outputs": [],
   "source": [
    "from util.featurize import extract_features\n",
    "\n",
    "features = extract_features(img, segments)"
   ],
   "metadata": {
    "collapsed": false
   }
  },
  {
   "cell_type": "code",
   "execution_count": null,
   "outputs": [],
   "source": [
    "feature_center_x = []\n",
    "feature_center_y = []\n",
    "for i, feature_set in enumerate(features):\n",
    "    feature_center_x.append(feature_set['center_x'])\n",
    "    feature_center_y.append(feature_set['center_y'])\n",
    "\n",
    "segment_center_x = []\n",
    "segment_center_y = []\n",
    "segments_ids = np.unique(segments)\n",
    "centers = np.array([np.mean(np.nonzero(segments == i), axis=1) for i in segments_ids])\n",
    "for a_center in centers:\n",
    "    segment_center_x.append(a_center[0])\n",
    "    segment_center_y.append(a_center[1])\n",
    "\n",
    "plt.scatter(segment_center_y,np.max(feature_center_x) - segment_center_x) # plot of segmentation centers\n",
    "plt.scatter(feature_center_y,np.max(feature_center_x) - feature_center_x) # plot of centers after featurization\n",
    "print(\"number of features: \" + str(np.size(features)))\n",
    "print(\"number of segments: \" + str(np.size(segments_ids)))"
   ],
   "metadata": {
    "collapsed": false
   }
  },
  {
   "cell_type": "code",
   "execution_count": null,
   "outputs": [],
   "source": [
    "print(\"feature last: \" + str(feature_center_x[np.size(features)-1]) + \" \" + str(feature_center_x[np.size(features)-1]))\n",
    "print(\"segemnt last: \" + str(segment_center_x[np.size(features)]) + \" \" + str(segment_center_x[np.size(features)]))\n",
    "# np.max(segment_center_x)\n",
    "# np.max(feature_center_x) # w/o  last value\n",
    "# plt.imshow(get_segment(features, segment_i), cmap=plt.cm.gray)\n"
   ],
   "metadata": {
    "collapsed": false
   }
  },
  {
   "cell_type": "markdown",
   "id": "435e57d7",
   "metadata": {},
   "source": [
    "# Computing features and creating a graph"
   ]
  },
  {
   "cell_type": "code",
   "execution_count": null,
   "id": "b895cad1",
   "metadata": {},
   "outputs": [],
   "source": [
    "import networkx as nx\n",
    "G = nx.Graph()\n",
    "\n",
    "# add nodes\n",
    "nodes = []\n",
    "centers = np.array([np.mean(np.nonzero(segments==i),axis=1) for i in segments_ids])\n",
    "for i in range(1, len(np.unique(segments))):\n",
    "    \n",
    "    # TODO: remove the background segment\n",
    "    \n",
    "    feats = featurize_segment(segments, i)\n",
    "    feats['node_x'] = centers[i][0]\n",
    "    feats['node_y'] = centers[i][1]\n",
    "    \n",
    "    node_id = feats['segment_id']\n",
    "    del feats['segment_id']\n",
    "    \n",
    "    nodes.append((node_id, feats))\n",
    "    \n",
    "G.add_nodes_from(nodes)\n",
    "        \n",
    "# add edges (connect every node to every), TODO: weights based on similarity\n",
    "from itertools import product\n",
    "\n",
    "G.add_edges_from((a,b) for a,b in product(range(len(G.nodes)), range(len(G.nodes))) if a != b)"
   ]
  }
 ],
 "metadata": {
  "kernelspec": {
   "display_name": "Python 3",
   "language": "python",
   "name": "python3"
  },
  "language_info": {
   "codemirror_mode": {
    "name": "ipython",
    "version": 3
   },
   "file_extension": ".py",
   "mimetype": "text/x-python",
   "name": "python",
   "nbconvert_exporter": "python",
   "pygments_lexer": "ipython3",
   "version": "3.10.6"
  },
  "vscode": {
   "interpreter": {
    "hash": "d079bd3231fd5d33e04c092e83ff0bd224dfb0a6643eeee5bfac9e368a4a41b5"
   }
  }
 },
 "nbformat": 4,
 "nbformat_minor": 5
}
